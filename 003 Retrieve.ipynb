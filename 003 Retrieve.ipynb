{
 "cells": [
  {
   "cell_type": "markdown",
   "metadata": {},
   "source": [
    "# RAG Retrieval"
   ]
  },
  {
   "cell_type": "code",
   "execution_count": 2,
   "metadata": {},
   "outputs": [],
   "source": [
    "import os\n",
    "from dotenv import load_dotenv\n",
    "from openai import OpenAI\n",
    "import chromadb\n",
    "import chromadb.utils.embedding_functions as embedding_functions"
   ]
  },
  {
   "cell_type": "code",
   "execution_count": 3,
   "metadata": {},
   "outputs": [],
   "source": [
    "class SearchEngine:\n",
    "    \"\"\"\n",
    "    A search engine that uses a language model to extract key words from a query and search a database.\n",
    "\n",
    "    Attributes:\n",
    "        extra_exembedding (bool): Flag to use extra embedding functions.\n",
    "        llm (OpenAI): The language model instance.\n",
    "        llm_model (str): The name of the language model.\n",
    "    \"\"\"\n",
    "    def __init__(self, db_path='db', collection_name='demo',extra_exembedding=True,enable_logging=True):\n",
    "        \"\"\"\n",
    "        Initializes the SearchEngine with a database path and collection name.\n",
    "\n",
    "        Args:\n",
    "            db_path (str): The path to the database.\n",
    "            collection_name (str): The name of the collection in the database.\n",
    "            extra_exembedding (bool): Flag to use extra embedding functions.\n",
    "        \"\"\"\n",
    "        \n",
    "        if not os.path.exists(db_path):\n",
    "            raise ValueError(f\"Database path '{db_path}' does not exist.\")\n",
    "\n",
    "        self.extra_exembedding = extra_exembedding\n",
    "        self.enable_logging = enable_logging\n",
    "\n",
    "        load_dotenv()\n",
    "        api_key = os.environ.get(\"OPENAI_API_KEY\")\n",
    "        base_url = os.environ.get(\"OPENAI_BASE_URL\")\n",
    "        embedding_model = os.environ.get(\"OPENAI_EMBEDDING_NAME\", \"text-embedding-3-small\")\n",
    "        \n",
    "        if not api_key:\n",
    "            raise ValueError(\"API key must be set in environment variables.\")\n",
    "        \n",
    "        client = chromadb.PersistentClient(path=db_path)\n",
    "        \n",
    "        try:\n",
    "            if self.extra_exembedding:\n",
    "                if base_url:\n",
    "                    openai_ef = embedding_functions.OpenAIEmbeddingFunction(\n",
    "                        api_key=api_key,\n",
    "                        api_base=base_url,\n",
    "                        model_name=embedding_model\n",
    "                    )\n",
    "                else:\n",
    "                    openai_ef = embedding_functions.OpenAIEmbeddingFunction(\n",
    "                        api_key=api_key,\n",
    "                        model_name=embedding_model\n",
    "                    )\n",
    "            \n",
    "                self.collection = client.get_collection(name=collection_name,embedding_function=openai_ef)\n",
    "            else:\n",
    "                self.collection = client.get_collection(name=collection_name)\n",
    "            if self.enable_logging:\n",
    "                print(f\"\\nConnected to collection {collection_name} in database {db_path} for searching.\")\n",
    "        except:\n",
    "            raise ValueError(f\"Collection '{collection_name}' does not exist in database at path '{db_path}'.\")\n",
    "        \n",
    "        self.llm = OpenAI(api_key=api_key, base_url=base_url) if base_url else OpenAI(api_key=api_key)\n",
    "        self.llm_model = os.environ.get(\"OPENAI_MODEL_NAME\",\"gpt-4o-mini\")\n",
    "\n",
    "    def search(self, query, n_results=1):\n",
    "        \"\"\"\n",
    "        Searches the database using a query.\n",
    "\n",
    "        Args:\n",
    "            query (str): The search query.\n",
    "            n_results (int): The number of results to return.\n",
    "\n",
    "        Returns:\n",
    "            list: The search results.\n",
    "        \"\"\"\n",
    "\n",
    "        return self.collection.query(\n",
    "            query_texts=[query],\n",
    "            n_results=n_results\n",
    "        )\n",
    "        \n",
    "        \n",
    "    \n",
    "    def hybrid_search(self, query, text_results=3,semantic_results=3):\n",
    "        \"\"\"\n",
    "        Performs a hybrid search using both text and semantic recall.\n",
    "\n",
    "        Args:\n",
    "            query (str): The search query.\n",
    "            text_results (int): The number of text-based results to return.\n",
    "            semantic_results (int): The number of semantic-based results to return.\n",
    "\n",
    "        Returns:\n",
    "            list: The combined search results.\n",
    "        \"\"\"\n",
    "        if text_results + semantic_results < 1:\n",
    "            raise ValueError(\"The sum of text_results and semantic_results must be greater than 0.\")\n",
    "        \n",
    "        text_recall = None\n",
    "        text_semanti_recall = None\n",
    "        \n",
    "        if text_results > 0:\n",
    "            simple_key_word = self._extract_simple_key_word_from_query(query)\n",
    "            \n",
    "            if self.enable_logging:\n",
    "                print(f\"Simple key word for text recall: {simple_key_word}\")\n",
    "            \n",
    "            text_recall = self.collection.query(\n",
    "                    query_texts=[query],\n",
    "                    n_results=text_results,\n",
    "                    where_document={\"$contains\": simple_key_word}\n",
    "                )\n",
    "        \n",
    "        if semantic_results > 0:\n",
    "            key_words = self._extract_key_words_from_query(query)\n",
    "            \n",
    "            if self.enable_logging:\n",
    "                print(f\"Key words for semantic recall: {key_words}\")\n",
    "            \n",
    "            text_semanti_recall = self.collection.query(\n",
    "                query_texts=[query],\n",
    "                n_results=semantic_results,\n",
    "                where_document={\"$or\": [{\"$contains\": kw} for kw in key_words]}\n",
    "                )\n",
    "\n",
    "        simple_search_recall = self.search(query, n_results = text_results + semantic_results)\n",
    "        \n",
    "        results = self.combine_objects(text_recall,text_semanti_recall)\n",
    "        \n",
    "        results = self.combine_objects(results,simple_search_recall)\n",
    "        \n",
    "        return results\n",
    "    \n",
    "    def _extract_simple_key_word_from_query(self, query):\n",
    "        \"\"\"\n",
    "        Extracts a simple key word from the query using the language model.\n",
    "        \"\"\"\n",
    "        prompt = (\n",
    "            f\"Analyze the query below, identify a single key search term for recal.\\n\\n\"\n",
    "            f\"{query}\\n\\n\"\n",
    "            f\"Just return the final key word.\"\n",
    "        )\n",
    "        \n",
    "        try:\n",
    "            response = self.llm.chat.completions.create(\n",
    "                messages=[{\"role\": \"user\",\"content\": prompt}],\n",
    "                model=self.llm_model,\n",
    "                temperature=0.0,\n",
    "                max_tokens=1024,\n",
    "            )\n",
    "            key_word = response.choices[0].message.content.strip()\n",
    "            return key_word\n",
    "        \n",
    "        except Exception as e:\n",
    "            print(f\"Error extracting keywords: {e}\")\n",
    "            return None\n",
    "    \n",
    "    def _extract_key_words_from_query(self, query):\n",
    "        \"\"\"\n",
    "        Extracts key words from the query using the language model.\n",
    "\n",
    "        Args:\n",
    "            query (str): The search query.\n",
    "\n",
    "        Returns:\n",
    "            list: A list of key words.\n",
    "        \"\"\"\n",
    "        prompt = (\n",
    "            f\"Analyze the query below, identify key search terms for recall, and expand the query using synonyms, lemmatization and ensure to include both single words and phrases.\\n\\n\"\n",
    "            f\"{query}\\n\\n\"\n",
    "            f\"Just return the final key words in a comma-separated list like 'key_word1,key_word2,key_word3',at most five key words.\"\n",
    "        )\n",
    "        \n",
    "        try:\n",
    "            response = self.llm.chat.completions.create(\n",
    "                messages=[{\"role\": \"user\",\"content\": prompt}],\n",
    "                model=self.llm_model,\n",
    "                temperature=0.1,\n",
    "                max_tokens=1024,\n",
    "            )\n",
    "            key_words = [kw.strip() for kw in response.choices[0].message.content.split(\",\")]\n",
    "            \n",
    "            prompt_translation = (\n",
    "                f\"Translate the key words below into both Chinese and English.\\n\\n\"\n",
    "                f\"{key_words}\\n\\n\"\n",
    "                f\"Just return the final translated key words in a comma-separated list like 'key_word1,key_word2,key_word3,关键词1,关键词2,关键词3'.\"\n",
    "            )\n",
    "            \n",
    "            response = self.llm.chat.completions.create(\n",
    "                messages=[{\"role\": \"user\",\"content\": prompt_translation}],\n",
    "                model=self.llm_model,\n",
    "                temperature=0.1,\n",
    "                max_tokens=1024,\n",
    "            )\n",
    "            key_words = [kw.strip() for kw in response.choices[0].message.content.split(\",\")]\n",
    "            \n",
    "            return key_words\n",
    "        except Exception as e:\n",
    "            print(f\"Error extracting keywords: {e}\")\n",
    "            return []\n",
    "        \n",
    "    @staticmethod\n",
    "    def combine_objects(obj1, obj2):\n",
    "        \"\"\"\n",
    "        Combines two search result objects.\n",
    "\n",
    "        Args:\n",
    "            obj1 (dict): The first search result object.\n",
    "            obj2 (dict): The second search result object.\n",
    "\n",
    "        Returns:\n",
    "            dict: The combined search result object.\n",
    "        \"\"\"\n",
    "        if obj1 is None:\n",
    "            return obj2\n",
    "        if obj2 is None:\n",
    "            return obj1\n",
    "        \n",
    "        obj1_ids = set(obj1['ids'][0])\n",
    "        \n",
    "        result = {key: obj1[key] for key in ['ids', 'distances', 'metadatas', 'documents']}\n",
    "        \n",
    "        for index, obj_id in enumerate(obj2['ids'][0]):\n",
    "            if obj_id not in obj1_ids:\n",
    "                for key in result:\n",
    "                    result[key][0].append(obj2[key][0][index])\n",
    "                \n",
    "        return result"
   ]
  },
  {
   "cell_type": "code",
   "execution_count": 4,
   "metadata": {},
   "outputs": [
    {
     "name": "stdout",
     "output_type": "stream",
     "text": [
      "\n",
      "Connected to collection demo in database db for searching.\n"
     ]
    }
   ],
   "source": [
    "se = SearchEngine(db_path='db', collection_name='demo')"
   ]
  },
  {
   "cell_type": "code",
   "execution_count": 5,
   "metadata": {},
   "outputs": [
    {
     "data": {
      "text/plain": [
       "{'ids': [['5f49075d270bc6b893f27710f247fb81d8ac82b49832a48e9ddd4c1d9c0a4fbf',\n",
       "   '7cb5944269b1fa2985ea8e460141469f6ec31ffd19ea428062964fd2344dbfc0',\n",
       "   'de8051914982b15f0a2449e2c14b1b3f957f41b594b2bb9c070b646d32dbecd7']],\n",
       " 'distances': [[0.8542461668006612, 0.8923088599274618, 0.9893264975740468]],\n",
       " 'metadatas': [[{'Header 1': 'The Transformative Power of Meditation: A Path to Inner Peace',\n",
       "    'Header 2': 'Getting Started with Meditation',\n",
       "    'Header 3': 'Basic Steps to Meditate',\n",
       "    'file': 'doc/example_doc.md'},\n",
       "   {'Header 1': 'The Transformative Power of Meditation: A Path to Inner Peace',\n",
       "    'Header 2': 'A Simple Meditation Practice: 10-Minute Guided Session',\n",
       "    'file': 'doc/example_doc.md'},\n",
       "   {'Header 1': 'The Transformative Power of Meditation: A Path to Inner Peace',\n",
       "    'Header 2': 'Getting Started with Meditation',\n",
       "    'Header 3': 'Creating a Meditation Space',\n",
       "    'file': 'doc/example_doc.md'}]],\n",
       " 'embeddings': None,\n",
       " 'documents': [['### Basic Steps to Meditate  \\n1. **Choose a Comfortable Position**: Sit or lie down in a comfortable position. Keep your back straight to promote alertness.  \\n2. **Close Your Eyes**: Gently close your eyes or lower your gaze to minimize distractions.  \\n3. **Focus on Your Breath**: Take a few deep breaths, inhaling through your nose and exhaling through your mouth. Pay attention to the sensation of your breath entering and leaving your body.',\n",
       "   '## A Simple Meditation Practice: 10-Minute Guided Session  \\n1. **Preparation (1 minute)**: Sit comfortably, close your eyes, and take a few deep breaths to center yourself.  \\n2. **Breath Awareness (5 minutes)**: Focus on your breath. Inhale deeply, hold for a moment, and exhale slowly. If your mind wanders, gently bring it back to your breath.  \\n3. **Body Scan (3 minutes)**: Bring awareness to different parts of your body, starting from your toes and moving up to your head. Relax each area as you go.',\n",
       "   '## Getting Started with Meditation  \\n### Creating a Meditation Space  \\nTo begin your meditation journey, it’s essential to create a conducive environment. Find a quiet space where you won’t be disturbed. This could be a corner of your room, a cozy chair, or even a spot in your garden. Make it comfortable by adding cushions or blankets, and consider dimming the lights or using candles to create a calming atmosphere.']],\n",
       " 'uris': None,\n",
       " 'data': None,\n",
       " 'included': ['metadatas', 'documents', 'distances']}"
      ]
     },
     "execution_count": 5,
     "metadata": {},
     "output_type": "execute_result"
    }
   ],
   "source": [
    "se.search(\"Show me how to meditate\" , n_results=3)"
   ]
  },
  {
   "cell_type": "code",
   "execution_count": 6,
   "metadata": {},
   "outputs": [
    {
     "data": {
      "text/plain": [
       "{'ids': [['0917d4f70bf429c14ef0bd82c019fa91b3c118a34d62a92870fac05f14ecbba0',\n",
       "   '6380585168007facd2291bdfe045e9e8fb693ab78a90d4b625d4a6549764c3c9',\n",
       "   'ba934fae265c2f969b9ac92793af578b8be398b6552c03c0187c615366d5d73b']],\n",
       " 'distances': [[1.0776456932135008, 1.3660479009299706, 1.6847147858983502]],\n",
       " 'metadatas': [[{'file': 'doc/example_doc_pdf_converted.md'},\n",
       "   {'file': 'doc/example_doc_pdf_converted.md'},\n",
       "   {'file': 'doc/example_doc_pdf_converted.md'}]],\n",
       " 'embeddings': None,\n",
       " 'documents': [['**Retrieval-Augmented Generation (RAG) with Large Language Models (LLMs)**  \\n**1. Introduction**  \\nRetrieval-Augmented Generation (RAG) is a powerful approach that combines the strengths of\\ninformation retrieval and generative models. By integrating a retrieval mechanism with a large  \\nlanguage model (LLM), RAG can provide more accurate and contextually relevant responses, especially\\nin knowledge-intensive tasks.  \\n**2. Objectives**  \\nEnhance the accuracy of responses generated by LLMs.',\n",
       "   '-----  \\n**Retrieval Accuracy: Improving the relevance of retrieved documents to enhance response quality.**  \\n**LLM Limitations: Addressing the inherent limitations of LLMs, such as generating incorrect or**\\nbiased information.  \\n**8. Conclusion**  \\nRAG with LLMs presents a promising approach to enhance the capabilities of conversational agents  \\nand information retrieval systems. By effectively combining retrieval and generation, we can create  \\nmore intelligent and responsive applications.  \\n-----',\n",
       "   'An LLM, such as GPT-4, is responsible for generating human-like text based on input prompts. It can  \\nunderstand context, generate coherent responses, and adapt to various conversational styles.  \\n3.2 Document Retrieval System  \\nThis system is responsible for fetching relevant documents or snippets from a predefined knowledge\\nbase. It can utilize techniques such as:  \\n**Keyword Search: Simple matching of keywords in the query to documents.**']],\n",
       " 'uris': None,\n",
       " 'data': None,\n",
       " 'included': ['metadatas', 'documents', 'distances']}"
      ]
     },
     "execution_count": 6,
     "metadata": {},
     "output_type": "execute_result"
    }
   ],
   "source": [
    "se.search(\"what is RAG\", n_results=3)"
   ]
  },
  {
   "cell_type": "code",
   "execution_count": 7,
   "metadata": {},
   "outputs": [
    {
     "name": "stdout",
     "output_type": "stream",
     "text": [
      "Simple key word for text recall: 数学\n",
      "Key words for semantic recall: ['mathematics', 'mathematical concepts', 'introduction to mathematics', 'mathematical foundation', 'mathematical knowledge', '数学', '数学概念', '数学简介', '数学基础', '数学知识']\n"
     ]
    },
    {
     "data": {
      "text/plain": [
       "{'ids': [['bdfd10149846d1e9176a4d84d075cf956291853d0d414d7dc16288a96a39758a',\n",
       "   'd8c909c465e32586550e0da5b7d21d43ad1b8bb1d80e5d62af19c58d6dfd4614',\n",
       "   '1282b6325307bf497b5578ecd28429c54ee1a1976fe4dd40a5ac5e376dd327d2',\n",
       "   '4de0943f2fb85e89a4adde6cdd96806b44a81b1fa5845a3a1295983f96cc9a2c']],\n",
       " 'distances': [[1.0612587436526446,\n",
       "   1.0882368905727917,\n",
       "   1.0962425463988101,\n",
       "   1.0971993417315247]],\n",
       " 'metadatas': [[{'file': 'doc/subdir/subdir_example_doc_pdf_converted.md'},\n",
       "   {'file': 'doc/subdir/subdir_example_doc_pdf_converted.md'},\n",
       "   {'file': 'doc/subdir/subdir_example_doc_pdf_converted.md'},\n",
       "   {'file': 'doc/subdir/subdir_example_doc_pdf_converted.md'}]],\n",
       " 'documents': [['**The Beauty of Mathematics**  \\nMathematics is often described as the language of the universe, a discipline that transcends cultural  \\nand linguistic boundaries. It is not only a tool for solving problems but also a profound way of\\nunderstanding the world around us. This article explores the essence of mathematics, its historical  \\ndevelopment, key concepts, and its significance in contemporary society.  \\n**What is Mathematics?**',\n",
       "   '-----  \\nThe 17th century marked the birth of calculus, developed independently by Isaac Newton and  \\nGottfried Wilhelm Leibniz. This period also saw the rise of probability theory and advancements in\\nmathematical notation. The 19th and 20th centuries introduced abstract mathematics, including set  \\ntheory and topology.  \\n**Key Concepts in Mathematics**  \\n1. Numbers and Operations: The foundation of mathematics, including natural numbers, integers,  \\nrational numbers, and real numbers.',\n",
       "   '1. Arithmetic: The study of numbers and basic operations (addition, subtraction, multiplication,  \\ndivision).  \\n2. Algebra: The branch that deals with symbols and the rules for manipulating those symbols.  \\n3. Geometry: The study of shapes, sizes, and properties of space.  \\n4. Calculus: The study of change and motion, focusing on derivatives and integrals.  \\n5. Statistics: The study of data collection, analysis, interpretation, and presentation.  \\n**Historical Development of Mathematics**',\n",
       "   'development, key concepts, and its significance in contemporary society.  \\n**What is Mathematics?**  \\nMathematics is the study of numbers, quantities, shapes, and patterns. It involves the exploration of  \\nabstract concepts and the relationships between them. Mathematics can be divided into several\\nbranches, including:  \\n1. Arithmetic: The study of numbers and basic operations (addition, subtraction, multiplication,  \\ndivision).']]}"
      ]
     },
     "execution_count": 7,
     "metadata": {},
     "output_type": "execute_result"
    }
   ],
   "source": [
    "se.hybrid_search(\"简要介绍数学\", text_results=2,semantic_results=2)"
   ]
  },
  {
   "cell_type": "code",
   "execution_count": 8,
   "metadata": {},
   "outputs": [
    {
     "data": {
      "text/plain": [
       "['meditate',\n",
       " 'meditation',\n",
       " 'mindfulness',\n",
       " 'practice',\n",
       " 'techniques',\n",
       " '冥想',\n",
       " '静坐',\n",
       " '正念',\n",
       " '练习',\n",
       " '技巧']"
      ]
     },
     "execution_count": 8,
     "metadata": {},
     "output_type": "execute_result"
    }
   ],
   "source": [
    "se._extract_key_words_from_query(\"Show me how to meditate\")"
   ]
  },
  {
   "cell_type": "code",
   "execution_count": 9,
   "metadata": {},
   "outputs": [
    {
     "data": {
      "text/plain": [
       "'meditate'"
      ]
     },
     "execution_count": 9,
     "metadata": {},
     "output_type": "execute_result"
    }
   ],
   "source": [
    "se._extract_simple_key_word_from_query(\"Show me how to meditate\")"
   ]
  },
  {
   "cell_type": "code",
   "execution_count": 94,
   "metadata": {},
   "outputs": [
    {
     "data": {
      "text/plain": [
       "6"
      ]
     },
     "execution_count": 94,
     "metadata": {},
     "output_type": "execute_result"
    }
   ],
   "source": []
  },
  {
   "cell_type": "code",
   "execution_count": null,
   "metadata": {},
   "outputs": [],
   "source": []
  }
 ],
 "metadata": {
  "kernelspec": {
   "display_name": "Python 3",
   "language": "python",
   "name": "python3"
  },
  "language_info": {
   "codemirror_mode": {
    "name": "ipython",
    "version": 3
   },
   "file_extension": ".py",
   "mimetype": "text/x-python",
   "name": "python",
   "nbconvert_exporter": "python",
   "pygments_lexer": "ipython3",
   "version": "3.12.4"
  }
 },
 "nbformat": 4,
 "nbformat_minor": 2
}

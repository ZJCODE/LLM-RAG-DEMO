{
 "cells": [
  {
   "cell_type": "markdown",
   "metadata": {},
   "source": [
    "# RAG"
   ]
  },
  {
   "cell_type": "code",
   "execution_count": 1,
   "metadata": {},
   "outputs": [
    {
     "name": "stdout",
     "output_type": "stream",
     "text": [
      "\n",
      "Loading files from doc\n",
      "\n",
      "Processing PDFs\n",
      "Skipping doc/example_doc.pdf as it has already been converted to markdown\n",
      "Skipping doc/subdir/subdir_example_doc.pdf as it has already been converted to markdown\n",
      "\n",
      "Connected to collection demo in database db for indexing.\n"
     ]
    },
    {
     "name": "stderr",
     "output_type": "stream",
     "text": [
      "Indexing Progress: 100%|██████████| 4/4 [00:00<00:00, 388.50it/s]"
     ]
    },
    {
     "name": "stdout",
     "output_type": "stream",
     "text": [
      "\n",
      "Indexing documents from doc/example_doc_pdf_converted.md.\n",
      "All documents already exist in the collection.\n",
      "\n",
      "Indexing documents from doc/example_doc.md.\n",
      "All documents already exist in the collection.\n",
      "\n",
      "Indexing documents from doc/subdir/subdir_example_doc.md.\n",
      "All documents already exist in the collection.\n",
      "\n",
      "Indexing documents from doc/subdir/subdir_example_doc_pdf_converted.md.\n",
      "All documents already exist in the collection.\n",
      "\n",
      "Indexing completed, total documents indexed: 4.\n",
      "All documents already exist in the collection.\n",
      "\n",
      "Connected to collection demo in database db for searching.\n",
      "\n",
      "Connected to Search Engine and Language Model\n"
     ]
    },
    {
     "name": "stderr",
     "output_type": "stream",
     "text": [
      "\n"
     ]
    }
   ],
   "source": [
    "from rag_utils import DocLoader,StoreIndex,SearchEngine,RAGChatbot\n",
    "\n",
    "doc_path,db_path,collection_name = 'doc','db','demo'\n",
    "\n",
    "dl = DocLoader(path=doc_path)\n",
    "si = StoreIndex(db_path=db_path,collection_name=collection_name)\n",
    "# si.clear() # clear the collection if needed\n",
    "si.index_from_doc_loader(dl)  # add docs from doc loader which loads all docs in a folder\n",
    "si.add(*dl.load_single_file('README.md')[1:]) # add extra single doc if needed\n",
    "se = SearchEngine(db_path=db_path, collection_name=collection_name)\n",
    "rag = RAGChatbot(se,hybrid_search=True)"
   ]
  },
  {
   "cell_type": "code",
   "execution_count": 2,
   "metadata": {},
   "outputs": [
    {
     "name": "stdout",
     "output_type": "stream",
     "text": [
      "Simple key word for text recall: Math\n",
      "Key words for semantic recall: ['benefits', 'math', 'learning', 'advantages', 'numeracy', '好处', '数学', '学习', '优势', '算术能力']\n",
      "\n",
      "Search completed in 5.34 seconds\n",
      "self.messages []\n",
      "messages [{'role': 'user', 'content': 'Context information is below.\\n\\n----------------------------------------\\n\\n[{\\'document\\': \\'**The Beauty of Mathematics**  \\\\nMathematics is often described as the language of the universe, a discipline that transcends cultural  \\\\nand linguistic boundaries. It is not only a tool for solving problems but also a profound way of\\\\nunderstanding the world around us. This article explores the essence of mathematics, its historical  \\\\ndevelopment, key concepts, and its significance in contemporary society.  \\\\n**What is Mathematics?**\\', \\'path\\': \\'doc/subdir/subdir_example_doc_pdf_converted.md\\'}, {\\'document\\': \"computer science and artificial intelligence.  \\\\n**Everyday Life: From budgeting to cooking, mathematics is an integral part of daily decision-**  \\\\nmaking.  \\\\n**Conclusion**  \\\\nMathematics is more than just numbers and equations; it is a powerful tool for understanding and  \\\\ninterpreting the world. Its historical evolution reflects humanity\\'s quest for knowledge and innovation.  \\\\nAs we continue to explore the depths of mathematics, we uncover its beauty and relevance in our lives,\", \\'path\\': \\'doc/subdir/subdir_example_doc_pdf_converted.md\\'}, {\\'document\\': \\'rational numbers, and real numbers.  \\\\n2. Functions: Relationships between sets of numbers, where each input has a unique output.  \\\\n3. Proof and Logic: The process of demonstrating the truth of mathematical statements through  \\\\nlogical reasoning.  \\\\n4. Mathematical Modeling: The use of mathematics to represent real-world phenomena, allowing for  \\\\npredictions and analysis.  \\\\n**The Significance of Mathematics Today**  \\\\nMathematics plays a crucial role in various fields, including:\\', \\'path\\': \\'doc/subdir/subdir_example_doc_pdf_converted.md\\'}, {\\'document\\': \\'1. Arithmetic: The study of numbers and basic operations (addition, subtraction, multiplication,  \\\\ndivision).  \\\\n2. Algebra: The branch that deals with symbols and the rules for manipulating those symbols.  \\\\n3. Geometry: The study of shapes, sizes, and properties of space.  \\\\n4. Calculus: The study of change and motion, focusing on derivatives and integrals.  \\\\n5. Statistics: The study of data collection, analysis, interpretation, and presentation.  \\\\n**Historical Development of Mathematics**\\', \\'path\\': \\'doc/subdir/subdir_example_doc_pdf_converted.md\\'}]\\n\\n----------------------------------------\\n\\nGiven the context information and prior chat, answer the question below.\\n\\nThe Benefits of Math Learning\\n'}]\n",
      "\n",
      "LLM completed in 3.17 seconds\n"
     ]
    }
   ],
   "source": [
    "res,doc = rag.answer('The Benefits of Math Learning')"
   ]
  },
  {
   "cell_type": "code",
   "execution_count": 3,
   "metadata": {},
   "outputs": [
    {
     "data": {
      "text/plain": [
       "\"Learning mathematics offers numerous benefits that extend beyond the classroom. Here are some key advantages:\\n\\n1. **Problem-Solving Skills**: Mathematics teaches critical thinking and problem-solving skills. It encourages students to approach problems methodically and develop logical reasoning.\\n\\n2. **Analytical Thinking**: Engaging with mathematical concepts enhances analytical thinking. Students learn to analyze data, identify patterns, and make informed decisions based on their findings.\\n\\n3. **Real-World Applications**: Mathematics is integral to everyday life, from budgeting and cooking to planning and decision-making. Understanding math helps individuals navigate daily tasks more effectively.\\n\\n4. **Foundation for Advanced Studies**: A strong grasp of mathematics is essential for pursuing advanced studies in fields such as science, engineering, economics, and technology. It provides the necessary tools for understanding complex concepts in these disciplines.\\n\\n5. **Career Opportunities**: Many careers require a solid understanding of mathematics. Fields such as finance, data analysis, computer science, and engineering rely heavily on mathematical principles.\\n\\n6. **Cognitive Development**: Learning math enhances cognitive development by improving memory, attention, and the ability to process information. It fosters a growth mindset as students tackle challenging problems.\\n\\n7. **Cultural Understanding**: Mathematics transcends cultural and linguistic boundaries, allowing individuals to connect with diverse perspectives and ideas. It reflects humanity's quest for knowledge and innovation throughout history.\\n\\n8. **Confidence Building**: Mastering mathematical concepts can boost self-esteem and confidence. As students overcome challenges in math, they develop a sense of accomplishment that can translate to other areas of life.\\n\\nIn summary, the benefits of learning mathematics are vast and impactful, shaping not only academic and career paths but also everyday decision-making and personal growth.\""
      ]
     },
     "execution_count": 3,
     "metadata": {},
     "output_type": "execute_result"
    }
   ],
   "source": [
    "res"
   ]
  },
  {
   "cell_type": "code",
   "execution_count": 4,
   "metadata": {},
   "outputs": [
    {
     "data": {
      "text/plain": [
       "[{'document': '**The Beauty of Mathematics**  \\nMathematics is often described as the language of the universe, a discipline that transcends cultural  \\nand linguistic boundaries. It is not only a tool for solving problems but also a profound way of\\nunderstanding the world around us. This article explores the essence of mathematics, its historical  \\ndevelopment, key concepts, and its significance in contemporary society.  \\n**What is Mathematics?**',\n",
       "  'path': 'doc/subdir/subdir_example_doc_pdf_converted.md'},\n",
       " {'document': \"computer science and artificial intelligence.  \\n**Everyday Life: From budgeting to cooking, mathematics is an integral part of daily decision-**  \\nmaking.  \\n**Conclusion**  \\nMathematics is more than just numbers and equations; it is a powerful tool for understanding and  \\ninterpreting the world. Its historical evolution reflects humanity's quest for knowledge and innovation.  \\nAs we continue to explore the depths of mathematics, we uncover its beauty and relevance in our lives,\",\n",
       "  'path': 'doc/subdir/subdir_example_doc_pdf_converted.md'},\n",
       " {'document': 'rational numbers, and real numbers.  \\n2. Functions: Relationships between sets of numbers, where each input has a unique output.  \\n3. Proof and Logic: The process of demonstrating the truth of mathematical statements through  \\nlogical reasoning.  \\n4. Mathematical Modeling: The use of mathematics to represent real-world phenomena, allowing for  \\npredictions and analysis.  \\n**The Significance of Mathematics Today**  \\nMathematics plays a crucial role in various fields, including:',\n",
       "  'path': 'doc/subdir/subdir_example_doc_pdf_converted.md'},\n",
       " {'document': '1. Arithmetic: The study of numbers and basic operations (addition, subtraction, multiplication,  \\ndivision).  \\n2. Algebra: The branch that deals with symbols and the rules for manipulating those symbols.  \\n3. Geometry: The study of shapes, sizes, and properties of space.  \\n4. Calculus: The study of change and motion, focusing on derivatives and integrals.  \\n5. Statistics: The study of data collection, analysis, interpretation, and presentation.  \\n**Historical Development of Mathematics**',\n",
       "  'path': 'doc/subdir/subdir_example_doc_pdf_converted.md'}]"
      ]
     },
     "execution_count": 4,
     "metadata": {},
     "output_type": "execute_result"
    }
   ],
   "source": [
    "doc"
   ]
  },
  {
   "cell_type": "code",
   "execution_count": 5,
   "metadata": {},
   "outputs": [
    {
     "name": "stdout",
     "output_type": "stream",
     "text": [
      "Simple key word for text recall: health\n",
      "Key words for semantic recall: ['health', 'wellness', 'wellbeing', 'fitness', 'medical', '健康', '幸福', '福祉', '健身', '医疗']\n",
      "\n",
      "Search completed in 3.74 seconds\n",
      "self.messages [{'role': 'user', 'content': 'The Benefits of Math Learning'}, {'role': 'assistant', 'content': \"Learning mathematics offers numerous benefits that extend beyond the classroom. Here are some key advantages:\\n\\n1. **Problem-Solving Skills**: Mathematics teaches critical thinking and problem-solving skills. It encourages students to approach problems methodically and develop logical reasoning.\\n\\n2. **Analytical Thinking**: Engaging with mathematical concepts enhances analytical thinking. Students learn to analyze data, identify patterns, and make informed decisions based on their findings.\\n\\n3. **Real-World Applications**: Mathematics is integral to everyday life, from budgeting and cooking to planning and decision-making. Understanding math helps individuals navigate daily tasks more effectively.\\n\\n4. **Foundation for Advanced Studies**: A strong grasp of mathematics is essential for pursuing advanced studies in fields such as science, engineering, economics, and technology. It provides the necessary tools for understanding complex concepts in these disciplines.\\n\\n5. **Career Opportunities**: Many careers require a solid understanding of mathematics. Fields such as finance, data analysis, computer science, and engineering rely heavily on mathematical principles.\\n\\n6. **Cognitive Development**: Learning math enhances cognitive development by improving memory, attention, and the ability to process information. It fosters a growth mindset as students tackle challenging problems.\\n\\n7. **Cultural Understanding**: Mathematics transcends cultural and linguistic boundaries, allowing individuals to connect with diverse perspectives and ideas. It reflects humanity's quest for knowledge and innovation throughout history.\\n\\n8. **Confidence Building**: Mastering mathematical concepts can boost self-esteem and confidence. As students overcome challenges in math, they develop a sense of accomplishment that can translate to other areas of life.\\n\\nIn summary, the benefits of learning mathematics are vast and impactful, shaping not only academic and career paths but also everyday decision-making and personal growth.\"}]\n",
      "messages [{'role': 'user', 'content': 'The Benefits of Math Learning'}, {'role': 'assistant', 'content': \"Learning mathematics offers numerous benefits that extend beyond the classroom. Here are some key advantages:\\n\\n1. **Problem-Solving Skills**: Mathematics teaches critical thinking and problem-solving skills. It encourages students to approach problems methodically and develop logical reasoning.\\n\\n2. **Analytical Thinking**: Engaging with mathematical concepts enhances analytical thinking. Students learn to analyze data, identify patterns, and make informed decisions based on their findings.\\n\\n3. **Real-World Applications**: Mathematics is integral to everyday life, from budgeting and cooking to planning and decision-making. Understanding math helps individuals navigate daily tasks more effectively.\\n\\n4. **Foundation for Advanced Studies**: A strong grasp of mathematics is essential for pursuing advanced studies in fields such as science, engineering, economics, and technology. It provides the necessary tools for understanding complex concepts in these disciplines.\\n\\n5. **Career Opportunities**: Many careers require a solid understanding of mathematics. Fields such as finance, data analysis, computer science, and engineering rely heavily on mathematical principles.\\n\\n6. **Cognitive Development**: Learning math enhances cognitive development by improving memory, attention, and the ability to process information. It fosters a growth mindset as students tackle challenging problems.\\n\\n7. **Cultural Understanding**: Mathematics transcends cultural and linguistic boundaries, allowing individuals to connect with diverse perspectives and ideas. It reflects humanity's quest for knowledge and innovation throughout history.\\n\\n8. **Confidence Building**: Mastering mathematical concepts can boost self-esteem and confidence. As students overcome challenges in math, they develop a sense of accomplishment that can translate to other areas of life.\\n\\nIn summary, the benefits of learning mathematics are vast and impactful, shaping not only academic and career paths but also everyday decision-making and personal growth.\"}, {'role': 'user', 'content': \"Context information is below.\\n\\n----------------------------------------\\n\\n[{'document': '### 3. Emotional Well-being  \\\\nMeditation has been linked to improved emotional health. Regular practice can lead to a more positive outlook on life, reduced symptoms of anxiety and depression, and greater emotional resilience. By fostering self-compassion and acceptance, meditation helps individuals navigate their emotions more effectively.', 'path': 'doc/example_doc.md'}, {'document': '## Philosophy  \\\\nadd some philosophy here do not just focus on the technology', 'path': 'README.md'}, {'document': '## Philosophy  \\\\nadd some philosophy here do not just focus on the technology', 'path': 'README.md'}, {'document': '## Content', 'path': 'temp/202107182122 豪尔赫·路易斯·博尔赫斯.md'}]\\n\\n----------------------------------------\\n\\nGiven the context information and prior chat, answer the question below.\\n\\nHow about health\\n\"}]\n",
      "\n",
      "LLM completed in 1.86 seconds\n"
     ]
    }
   ],
   "source": [
    "res,doc = rag.answer('How about health')"
   ]
  },
  {
   "cell_type": "code",
   "execution_count": 6,
   "metadata": {},
   "outputs": [
    {
     "data": {
      "text/plain": [
       "'Based on the context provided, health can be discussed in terms of emotional well-being, particularly through practices like meditation. Here are some key points regarding health in this context:\\n\\n1. **Emotional Health**: Meditation is associated with improved emotional health. Regular practice can lead to a more positive outlook on life, which is crucial for overall well-being.\\n\\n2. **Reduction of Anxiety and Depression**: Engaging in meditation can help reduce symptoms of anxiety and depression. This is significant as mental health is a vital component of overall health.\\n\\n3. **Emotional Resilience**: Meditation fosters greater emotional resilience, allowing individuals to cope better with stress and emotional challenges. This resilience is essential for maintaining mental health.\\n\\n4. **Self-Compassion and Acceptance**: By promoting self-compassion and acceptance, meditation helps individuals navigate their emotions more effectively, contributing to a healthier emotional state.\\n\\nIn summary, health, particularly emotional health, can be greatly enhanced through practices like meditation, which support mental well-being and resilience.'"
      ]
     },
     "execution_count": 6,
     "metadata": {},
     "output_type": "execute_result"
    }
   ],
   "source": [
    "res"
   ]
  },
  {
   "cell_type": "code",
   "execution_count": null,
   "metadata": {},
   "outputs": [],
   "source": []
  },
  {
   "cell_type": "code",
   "execution_count": null,
   "metadata": {},
   "outputs": [],
   "source": []
  }
 ],
 "metadata": {
  "kernelspec": {
   "display_name": "Python 3",
   "language": "python",
   "name": "python3"
  },
  "language_info": {
   "codemirror_mode": {
    "name": "ipython",
    "version": 3
   },
   "file_extension": ".py",
   "mimetype": "text/x-python",
   "name": "python",
   "nbconvert_exporter": "python",
   "pygments_lexer": "ipython3",
   "version": "3.12.4"
  }
 },
 "nbformat": 4,
 "nbformat_minor": 2
}

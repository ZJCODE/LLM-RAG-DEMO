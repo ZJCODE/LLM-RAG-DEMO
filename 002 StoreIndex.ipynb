{
 "cells": [
  {
   "cell_type": "markdown",
   "metadata": {},
   "source": [
    "# RAG Index & Store"
   ]
  },
  {
   "cell_type": "markdown",
   "metadata": {},
   "source": [
    "### Indexing\n",
    "\n",
    "- Load: First we need to load our data. \n",
    "\n",
    "- Split: Text splitters break large Documents into smaller chunks. This is useful both for indexing data and for passing it in to a model, since large chunks are harder to search over and won't fit in a model's finite context window.\n",
    "\n",
    "- Store: We need somewhere to store and index our splits, so that they can later be searched over. This is often done using a VectorStore and Embeddings model.\n",
    "\n",
    "- Retrieve: Given a user input, relevant splits are retrieved from storage using a Retriever.\n",
    "\n",
    "- Generate: A ChatModel / LLM produces an answer using a prompt that includes the question and the retrieved data"
   ]
  },
  {
   "cell_type": "code",
   "execution_count": 1,
   "metadata": {},
   "outputs": [],
   "source": [
    "# !pip install chromadb \n",
    "# !pip install uuid "
   ]
  },
  {
   "cell_type": "code",
   "execution_count": 2,
   "metadata": {},
   "outputs": [],
   "source": [
    "import chromadb\n",
    "import uuid\n",
    "import hashlib\n",
    "import os\n",
    "from dotenv import load_dotenv\n",
    "import chromadb.utils.embedding_functions as embedding_functions\n",
    "from rag_utils import DocLoader\n",
    "from tqdm import tqdm"
   ]
  },
  {
   "cell_type": "code",
   "execution_count": 3,
   "metadata": {},
   "outputs": [],
   "source": [
    "class StoreIndex:\n",
    "    \"\"\"\n",
    "    StoreIndex is a class for managing a collection of documents with optional embedding functions.\n",
    "    \n",
    "    Attributes:\n",
    "        db_path (str): Path to the database.\n",
    "        collection_name (str): Name of the collection.\n",
    "        extra_exembedding (bool): Flag to use extra embedding functions.\n",
    "        hash_text_uuid (bool): Flag to hash text to UUID.\n",
    "        enable_logging (bool): Flag to show progress of adding documents.\n",
    "        client (chromadb.PersistentClient): Persistent client for the database.\n",
    "        collection (chromadb.Collection): Collection of documents.\n",
    "    \"\"\"\n",
    "    \n",
    "    def __init__(self, db_path, collection_name, extra_exembedding=True, hash_text_uuid=True,enable_logging=True):\n",
    "        \"\"\"\n",
    "        Initialize the StoreIndex with the given parameters.\n",
    "        \n",
    "        Args:\n",
    "            db_path (str): Path to the database.\n",
    "            collection_name (str): Name of the collection.\n",
    "            extra_exembedding (bool): Flag to use extra embedding functions.\n",
    "            hash_text_uuid (bool): Flag to hash text to UUID.\n",
    "        \"\"\"\n",
    "        load_dotenv()\n",
    "        self.db_path = db_path\n",
    "        self.collection_name = collection_name\n",
    "        self.extra_exembedding = extra_exembedding\n",
    "        self.hash_text_uuid = hash_text_uuid\n",
    "        self.enable_logging = enable_logging\n",
    "        if not os.path.exists(self.db_path):\n",
    "            print(f\"\\nCreating database at {self.db_path}.\")\n",
    "        self.client = chromadb.PersistentClient(path=self.db_path)\n",
    "        self.collection = self._create_collection()\n",
    "        if self.enable_logging:\n",
    "            print(f\"\\nConnected to collection {self.collection_name} in database {self.db_path} for indexing.\")\n",
    "        \n",
    "    def _create_collection(self):\n",
    "        \"\"\"\n",
    "        Create or get the collection with optional embedding functions.\n",
    "        \n",
    "        Returns:\n",
    "            chromadb.Collection: The created or retrieved collection.\n",
    "        \"\"\"\n",
    "        if self.extra_exembedding:\n",
    "            \n",
    "            api_key = os.environ.get(\"OPENAI_API_KEY\")\n",
    "            base_url = os.environ.get(\"OPENAI_BASE_URL\")\n",
    "            embedding_model = os.environ.get(\"OPENAI_EMBEDDING_NAME\", \"text-embedding-3-small\")\n",
    "            \n",
    "            if not api_key:\n",
    "                raise ValueError(\"API key must be set in environment variables.\")\n",
    "            \n",
    "            if base_url:\n",
    "                openai_ef = embedding_functions.OpenAIEmbeddingFunction(\n",
    "                    api_key=api_key,\n",
    "                    api_base=base_url,\n",
    "                    model_name=embedding_model\n",
    "                )\n",
    "            else:\n",
    "                openai_ef = embedding_functions.OpenAIEmbeddingFunction(\n",
    "                    api_key=api_key,\n",
    "                    model_name=embedding_model\n",
    "                )\n",
    "            if not self.exists(self.db_path, self.collection_name):\n",
    "                print(\"\\nCreating collection {} in the database {}.\".format(self.collection_name, self.db_path))\n",
    "            return self.client.get_or_create_collection(name=self.collection_name, embedding_function=openai_ef)\n",
    "        return self.client.get_or_create_collection(name=self.collection_name)\n",
    "\n",
    "    def add(self, documents, metadatas=None):\n",
    "        \"\"\"\n",
    "        Add documents and their corresponding metadata to the collection.\n",
    "        \n",
    "        Args:\n",
    "            documents (Union[str, List[str]]): Documents to be added. Can be a single document or a list of documents.\n",
    "            metadatas (Union[Mapping[str, Union[str, int, float, bool]], List[Mapping[str, Union[str, int, float, bool]]]]): \n",
    "                Metadata for the documents. Can be a single mapping or a list of mappings.\n",
    "            enable_logging (bool): Flag to show progress of adding documents.\n",
    "        \n",
    "        Raises:\n",
    "            ValueError: If the lengths of metadatas and documents do not match.\n",
    "        \"\"\"\n",
    "        documents = documents if isinstance(documents, list) else [documents]\n",
    "        \n",
    "        if self.hash_text_uuid:\n",
    "            ids = [self._generate_sha256_hash_from_text(doc) for doc in documents]\n",
    "        else:\n",
    "            ids = [f\"{uuid.uuid4()}\" for _ in range(len(documents))]\n",
    "        \n",
    "        ids = list(set(ids))\n",
    "        \n",
    "        existing_ids = set(self.collection.get(ids=ids)[\"ids\"])\n",
    "        \n",
    "        if len(existing_ids) == len(ids):\n",
    "            if self.enable_logging:\n",
    "                print(\"All documents already exist in the collection.\")\n",
    "            return\n",
    "        if self.enable_logging:\n",
    "            print(f\"Totale {len(documents)} | Adding {len(documents) - len(existing_ids)} new documents to the collection.\")\n",
    "        \n",
    "        if metadatas:\n",
    "            metadatas = metadatas if isinstance(metadatas, list) else [metadatas]    \n",
    "            if len(metadatas) != len(documents):\n",
    "                raise ValueError(\"metadatas and documents should have the same length\")\n",
    "            filtered_documents, filtered_metadatas, filtered_ids = [], [], []\n",
    "            for doc, meta, id in zip(documents, metadatas, ids):\n",
    "                if id not in existing_ids:\n",
    "                    filtered_documents.append(doc)\n",
    "                    filtered_metadatas.append(meta)\n",
    "                    filtered_ids.append(id)\n",
    "            self.collection.add(documents=filtered_documents, ids=filtered_ids, metadatas=filtered_metadatas)\n",
    "        else:\n",
    "            filtered_documents, filtered_ids = [], []\n",
    "            for doc, id in zip(documents, ids):\n",
    "                if id not in existing_ids:\n",
    "                    filtered_documents.append(doc)\n",
    "                    filtered_ids.append(id)\n",
    "            self.collection.add(documents=filtered_documents, ids=filtered_ids)\n",
    "        \n",
    "    def index_from_doc_loader(self, doc_loader: DocLoader):\n",
    "        \"\"\"\n",
    "        Index documents from a DocLoader object.\n",
    "        \n",
    "        Args:\n",
    "            doc_loader (DocLoader): DocLoader object to load documents from.\n",
    "        \"\"\"        \n",
    "        docs = list(doc_loader.docs)  # Convert generator to list\n",
    "        for file, documents, metadatas in tqdm(docs, desc=\"Indexing documents\"):\n",
    "            if self.enable_logging:\n",
    "                print(f\"\\nIndexing documents from {file}.\")\n",
    "            self.add(documents=documents, metadatas=metadatas)\n",
    "        if self.enable_logging:\n",
    "            print(\"\\nIndexing completed, total documents indexed: {}.\".format(len(docs)))\n",
    "            \n",
    "        \n",
    "    def peek(self, n=10):\n",
    "        \"\"\"\n",
    "        Get the first n documents in the collection.\n",
    "        \n",
    "        Args:\n",
    "            n (int): Number of documents to return.\n",
    "        \n",
    "        Returns:\n",
    "            List[str]: The first n documents in the collection.\n",
    "        \"\"\"\n",
    "        return self.collection.peek(n)\n",
    "    \n",
    "    def clear(self):\n",
    "        \"\"\"\n",
    "        Clear the collection and create a new one.\n",
    "        \"\"\"\n",
    "        print(f\"Deleting collection {self.collection_name} in the database {self.db_path}.\")\n",
    "        self.client.delete_collection(name=self.collection_name)\n",
    "        self.collection = self._create_collection()\n",
    "\n",
    "    def delete(self):\n",
    "        \"\"\"\n",
    "        Delete the collection.\n",
    "        \"\"\"\n",
    "        print(f\"Deleting collection {self.collection_name} in the database {self.db_path}.\")\n",
    "        self.client.delete_collection(name=self.collection_name)\n",
    "\n",
    "    @staticmethod\n",
    "    def exists(db_path: str, collection_name: str) -> bool:\n",
    "        \"\"\"\n",
    "        Check if the db and collection exists.\n",
    "        \n",
    "        Args:\n",
    "            db_path (str): Path to the database.\n",
    "            collection_name (str): Name of the collection.\n",
    "        \n",
    "        Returns:\n",
    "            bool: True if the collection exists, False otherwise.\n",
    "        \"\"\"\n",
    "        \n",
    "        if not os.path.exists(db_path):\n",
    "            return False\n",
    "        else:\n",
    "            client = chromadb.PersistentClient(path=db_path)\n",
    "            try:\n",
    "                client.get_collection(name=collection_name)\n",
    "                return True\n",
    "            except:\n",
    "                return False\n",
    "\n",
    "    @staticmethod\n",
    "    def _generate_sha256_hash_from_text(text: str) -> str:\n",
    "        \"\"\"\n",
    "        Generate a SHA-256 hash from the given text.\n",
    "        \n",
    "        Args:\n",
    "            text (str): The text to hash.\n",
    "        \n",
    "        Returns:\n",
    "            str: The SHA-256 hash of the text.\n",
    "        \"\"\"\n",
    "        return hashlib.sha256(text.encode('utf-8')).hexdigest()\n"
   ]
  },
  {
   "cell_type": "code",
   "execution_count": 8,
   "metadata": {},
   "outputs": [],
   "source": [
    "si = StoreIndex(db_path='db',collection_name='test',enable_logging=False)\n",
    "# si.client.list_collections()"
   ]
  },
  {
   "cell_type": "code",
   "execution_count": 13,
   "metadata": {},
   "outputs": [],
   "source": [
    "si.add(documents=['hello','world'],metadatas=[{'tag':'2'},{'tag':'3'}])\n",
    "si.add(documents=['你好啊','世界','这是一条关于数学的笔记','微积分是研究变化的数学分支'])\n",
    "si.add(documents=['测试1','测试2'],metadatas=[None,{'tag':'2'}])"
   ]
  },
  {
   "cell_type": "code",
   "execution_count": 8,
   "metadata": {},
   "outputs": [
    {
     "data": {
      "text/plain": [
       "{'ids': [['33650a369521ec29f2e26c43d25967535bcb26436755f536735d1ef6e84a1ec5',\n",
       "   '486ea46224d1bb4fb680f34f7c9ad96a8f24ec88be73ea8e5a6c65260e9cb8a7',\n",
       "   '2cf24dba5fb0a30e26e83b2ac5b9e29e1b161e5c1fa7425e73043362938b9824']],\n",
       " 'distances': [[0.0, 0.7137184825340257, 1.4609405712453656]],\n",
       " 'metadatas': [[None, {'tag': '3'}, {'tag': '2'}]],\n",
       " 'embeddings': None,\n",
       " 'documents': [['世界', 'world', 'hello']],\n",
       " 'uris': None,\n",
       " 'data': None,\n",
       " 'included': ['metadatas', 'documents', 'distances']}"
      ]
     },
     "execution_count": 8,
     "metadata": {},
     "output_type": "execute_result"
    }
   ],
   "source": [
    "si.collection.query(\n",
    "    query_texts=[\"世界\"],\n",
    "    n_results=3,\n",
    ")"
   ]
  },
  {
   "cell_type": "markdown",
   "metadata": {},
   "source": [
    "#### Load Doc and do Indexing"
   ]
  },
  {
   "cell_type": "code",
   "execution_count": 15,
   "metadata": {},
   "outputs": [
    {
     "name": "stdout",
     "output_type": "stream",
     "text": [
      "\n",
      "Loading files from doc\n",
      "\n",
      "Processing PDFs\n",
      "Skipping doc/example_doc.pdf as it has already been converted to markdown\n",
      "Skipping doc/subdir/subdir_example_doc.pdf as it has already been converted to markdown\n"
     ]
    },
    {
     "name": "stderr",
     "output_type": "stream",
     "text": [
      "Indexing documents: 4it [00:00, 498.08it/s]\n"
     ]
    }
   ],
   "source": [
    "dl = DocLoader(path='doc',chunk_size=100,chunk_overlap=50)\n",
    "si = StoreIndex(db_path='db',collection_name='play',enable_logging=False)\n",
    "si.index_from_doc_loader(dl)"
   ]
  },
  {
   "cell_type": "code",
   "execution_count": 10,
   "metadata": {},
   "outputs": [
    {
     "name": "stdout",
     "output_type": "stream",
     "text": [
      "### Basic Steps to Meditate  \n",
      "1. **Choose a Comfortable Position**: Sit or lie down in a comfortable position. Keep your back straight to promote alertness.  \n",
      "2. **Close Your Eyes**: Gently close your eyes or lower your gaze to minimize distractions.  \n",
      "3. **Focus on Your Breath**: Take a few deep breaths, inhaling through your nose and exhaling through your mouth. Pay attention to the sensation of your breath entering and leaving your body.  \n",
      "4. **Acknowledge Thoughts**: As thoughts arise, acknowledge them without judgment and gently return your focus to your breath.\n",
      "--------------------------------------------------------------------------------\n",
      "## A Simple Meditation Practice: 10-Minute Guided Session  \n",
      "1. **Preparation (1 minute)**: Sit comfortably, close your eyes, and take a few deep breaths to center yourself.  \n",
      "2. **Breath Awareness (5 minutes)**: Focus on your breath. Inhale deeply, hold for a moment, and exhale slowly. If your mind wanders, gently bring it back to your breath.  \n",
      "3. **Body Scan (3 minutes)**: Bring awareness to different parts of your body, starting from your toes and moving up to your head. Relax each area as you go.\n",
      "--------------------------------------------------------------------------------\n"
     ]
    }
   ],
   "source": [
    "res = si.collection.query(\n",
    "    query_texts=[\"how to do Meditate\"],\n",
    "    n_results=2,\n",
    ")['documents']\n",
    "\n",
    "for r in res[0]:\n",
    "    print(r)\n",
    "    print('-'*80)"
   ]
  },
  {
   "cell_type": "code",
   "execution_count": 11,
   "metadata": {},
   "outputs": [
    {
     "name": "stdout",
     "output_type": "stream",
     "text": [
      "## Understanding Meditation  \n",
      "At its core, meditation is a practice that involves focusing the mind and eliminating distractions to achieve a state of heightened awareness and tranquility. While it may seem simple, meditation encompasses a wide range of techniques and approaches, each designed to foster mindfulness and self-awareness.\n",
      "--------------------------------------------------------------------------------\n",
      "### Basic Steps to Meditate  \n",
      "1. **Choose a Comfortable Position**: Sit or lie down in a comfortable position. Keep your back straight to promote alertness.  \n",
      "2. **Close Your Eyes**: Gently close your eyes or lower your gaze to minimize distractions.  \n",
      "3. **Focus on Your Breath**: Take a few deep breaths, inhaling through your nose and exhaling through your mouth. Pay attention to the sensation of your breath entering and leaving your body.  \n",
      "4. **Acknowledge Thoughts**: As thoughts arise, acknowledge them without judgment and gently return your focus to your breath.\n",
      "--------------------------------------------------------------------------------\n"
     ]
    }
   ],
   "source": [
    "res = si.collection.query(\n",
    "    query_texts=[\"what is Meditate\"],\n",
    "    n_results=2,\n",
    ")['documents']\n",
    "\n",
    "for r in res[0]:\n",
    "    print(r)\n",
    "    print('-'*80)"
   ]
  },
  {
   "cell_type": "code",
   "execution_count": null,
   "metadata": {},
   "outputs": [],
   "source": []
  },
  {
   "cell_type": "code",
   "execution_count": null,
   "metadata": {},
   "outputs": [],
   "source": []
  }
 ],
 "metadata": {
  "kernelspec": {
   "display_name": "Python 3",
   "language": "python",
   "name": "python3"
  },
  "language_info": {
   "codemirror_mode": {
    "name": "ipython",
    "version": 3
   },
   "file_extension": ".py",
   "mimetype": "text/x-python",
   "name": "python",
   "nbconvert_exporter": "python",
   "pygments_lexer": "ipython3",
   "version": "3.12.4"
  }
 },
 "nbformat": 4,
 "nbformat_minor": 2
}

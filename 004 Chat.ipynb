{
 "cells": [
  {
   "cell_type": "markdown",
   "metadata": {},
   "source": [
    "# Simple RAG"
   ]
  },
  {
   "cell_type": "code",
   "execution_count": 1,
   "metadata": {},
   "outputs": [],
   "source": [
    "import os\n",
    "import time\n",
    "from dotenv import load_dotenv\n",
    "from openai import OpenAI\n",
    "\n",
    "from rag_utils import SearchEngine"
   ]
  },
  {
   "cell_type": "code",
   "execution_count": 2,
   "metadata": {},
   "outputs": [],
   "source": [
    "class RAGChatbot:\n",
    "    \"\"\"\n",
    "    A chatbot that uses a Retrieval-Augmented Generation (RAG) approach to answer questions.\n",
    "    \n",
    "    Attributes:\n",
    "        se (SearchEngine): The search engine used to retrieve documents.\n",
    "        enable_logging (bool): Flag to show progress messages.\n",
    "        llm (OpenAI): The language model instance.\n",
    "        llm_model (str): The name of the language model.\n",
    "    \"\"\"\n",
    "    \n",
    "    def __init__(self, search_engine: SearchEngine,hybrid_search = False, enable_logging=True):\n",
    "        \"\"\"\n",
    "        Initializes the RAGChatbot with a search engine and optional progress display.\n",
    "        \n",
    "        Args:\n",
    "            search_engine (SearchEngine): The search engine to use for document retrieval.\n",
    "            enable_logging (bool): Whether to show progress messages. Default is True.\n",
    "        \"\"\"\n",
    "        self.se = search_engine\n",
    "        self.enable_logging = enable_logging\n",
    "        self.hybrid_search = hybrid_search\n",
    "        self.llm, self.llm_model = self.init_llm()\n",
    "        if self.enable_logging:\n",
    "            print(\"\\nConnected to Search Engine and Language Model\")\n",
    "        self.messages = []\n",
    "        \n",
    "    def clear_history(self):\n",
    "        \"\"\"\n",
    "        Clears the chat history.\n",
    "        \"\"\"\n",
    "        self.messages = []\n",
    "        \n",
    "    def init_llm(self):\n",
    "        \"\"\"\n",
    "        Initializes the language model using environment variables for API key and base URL.\n",
    "        \n",
    "        Returns:\n",
    "            tuple: A tuple containing the language model instance and the model name.\n",
    "        \n",
    "        Raises:\n",
    "            ValueError: If the API key is not set in environment variables.\n",
    "        \"\"\"\n",
    "        load_dotenv()\n",
    "        api_key = os.environ.get(\"OPENAI_API_KEY\")\n",
    "        base_url = os.environ.get(\"OPENAI_BASE_URL\")\n",
    "        \n",
    "        if not api_key:\n",
    "            raise ValueError(\"API key must be set in environment variables.\")\n",
    "        \n",
    "        llm = OpenAI(api_key=api_key, base_url=base_url) if base_url else OpenAI(api_key=api_key)\n",
    "        \n",
    "        llm_model = os.environ.get(\"OPENAI_MODEL_NAME\", \"gpt-4o-mini\")\n",
    "        \n",
    "        return llm, llm_model\n",
    "\n",
    "    def answer(self, question, reference_num=2,temperature = 0.1,max_tokens = 1024, history_length = 6):\n",
    "        \"\"\"\n",
    "        Answers a question using the RAG approach by retrieving documents and generating a response.\n",
    "        \n",
    "        Args:\n",
    "            question (str): The question to answer.\n",
    "            reference_num (int): The number of documents to retrieve. Default is 2.\n",
    "            temperature (float): The sampling temperature for the language model. Default is 0.1.\n",
    "            max_tokens (int): The maximum number of tokens to generate. Default is 1024.\n",
    "        \n",
    "        Returns:\n",
    "            tuple: A tuple containing the generated answer and the retrieved documents.\n",
    "        \"\"\"\n",
    "        start_search_time = time.time()\n",
    "        if self.hybrid_search:\n",
    "            result = self.se.hybrid_search(question, text_results=reference_num,semantic_results=reference_num)\n",
    "        else:\n",
    "            result = self.se.search(question, n_results=reference_num)\n",
    "        documents = result['documents'][0]\n",
    "        documents_path = [x['file'] for x in  result['metadatas'][0]]\n",
    "        documents_res = [{'document':document,'path':document_path} for document,document_path in zip(documents,documents_path)]\n",
    "        end_search_time = time.time()\n",
    "        search_duration = end_search_time - start_search_time\n",
    "    \n",
    "        if self.enable_logging:\n",
    "            print(f\"\\nSearch completed in {search_duration:.2f} seconds\")\n",
    "    \n",
    "        prompt = (\n",
    "            f\"Context information is below.\\n\\n\"\n",
    "            f\"----------------------------------------\\n\\n\"\n",
    "            f\"{documents_res}\\n\\n\"\n",
    "            f\"----------------------------------------\\n\\n\"\n",
    "            f\"Given the context information and prior chat, answer the question below.\\n\\n\"\n",
    "            f\"{question}\\n\"\n",
    "        )\n",
    "        \n",
    "        if history_length:\n",
    "            messages = self.messages[-history_length:] + [{\"role\": \"user\", \"content\": prompt}]\n",
    "        else:\n",
    "            messages = [{\"role\": \"user\", \"content\": prompt}]\n",
    "        \n",
    "        start_llm_time = time.time()\n",
    "        response = self.llm.chat.completions.create(\n",
    "            messages=messages,\n",
    "            model=self.llm_model,\n",
    "            temperature=temperature,\n",
    "            max_tokens=max_tokens\n",
    "        )\n",
    "        \n",
    "        self.messages.append({\"role\": \"user\", \"content\": question})\n",
    "        self.messages.append({\"role\": \"assistant\", \"content\": response.choices[0].message.content})\n",
    "        \n",
    "        end_llm_time = time.time()\n",
    "        llm_duration = end_llm_time - start_llm_time\n",
    "        \n",
    "        if self.enable_logging:\n",
    "            print(f\"\\nLLM completed in {llm_duration:.2f} seconds\")\n",
    "        \n",
    "        return response.choices[0].message.content, documents_res"
   ]
  },
  {
   "cell_type": "code",
   "execution_count": 3,
   "metadata": {},
   "outputs": [
    {
     "name": "stdout",
     "output_type": "stream",
     "text": [
      "\n",
      "Loading files from doc\n",
      "\n",
      "Processing PDFs\n",
      "Skipping doc/example_doc.pdf as it has already been converted to markdown\n",
      "Skipping doc/subdir/subdir_example_doc.pdf as it has already been converted to markdown\n",
      "\n",
      "Connected to collection demo in database db for indexing.\n"
     ]
    },
    {
     "name": "stderr",
     "output_type": "stream",
     "text": [
      "Indexing Progress: 100%|██████████| 4/4 [00:00<00:00, 356.23it/s]"
     ]
    },
    {
     "name": "stdout",
     "output_type": "stream",
     "text": [
      "\n",
      "Indexing documents from doc/example_doc_pdf_converted.md.\n",
      "All documents already exist in the collection.\n",
      "\n",
      "Indexing documents from doc/example_doc.md.\n",
      "All documents already exist in the collection.\n",
      "\n",
      "Indexing documents from doc/subdir/subdir_example_doc.md.\n",
      "All documents already exist in the collection.\n",
      "\n",
      "Indexing documents from doc/subdir/subdir_example_doc_pdf_converted.md.\n",
      "All documents already exist in the collection.\n",
      "\n",
      "Indexing completed, total documents indexed: 4.\n",
      "\n",
      "Connected to collection demo in database db for searching.\n",
      "\n",
      "Connected to Search Engine and Language Model\n"
     ]
    },
    {
     "name": "stderr",
     "output_type": "stream",
     "text": [
      "\n"
     ]
    }
   ],
   "source": [
    "from rag_utils import DocLoader,StoreIndex,SearchEngine\n",
    "\n",
    "doc_path,db_path,collection_name = 'doc','db','demo'\n",
    "\n",
    "dl = DocLoader(path=doc_path)\n",
    "si = StoreIndex(db_path=db_path,collection_name=collection_name)\n",
    "si.index_from_doc_loader(dl) # si.clear() / si.delete()\n",
    "se = SearchEngine(db_path=db_path, collection_name=collection_name)\n",
    "rag = RAGChatbot(se,hybrid_search = True)"
   ]
  },
  {
   "cell_type": "code",
   "execution_count": 4,
   "metadata": {},
   "outputs": [
    {
     "name": "stdout",
     "output_type": "stream",
     "text": [
      "Simple key word for text recall: Aesthetics\n",
      "Key words for semantic recall: ['meaning', 'learning', 'aesthetics', 'education', 'appreciation', '意义', '学习', '美学', '教育', '欣赏']\n",
      "\n",
      "Search completed in 4.22 seconds\n",
      "\n",
      "LLM completed in 1.41 seconds\n"
     ]
    }
   ],
   "source": [
    "res,doc = rag.answer(\"What is the meaning of learning aesthetics?\")"
   ]
  },
  {
   "cell_type": "code",
   "execution_count": 5,
   "metadata": {},
   "outputs": [
    {
     "data": {
      "text/plain": [
       "\"Learning aesthetics involves exploring the principles and concepts related to beauty, art, and taste. It encompasses understanding how we perceive and appreciate sensory and emotional values in our surroundings. By studying aesthetics, individuals gain insights into the nature of beauty, the significance of art, and the subjective nature of taste, which can vary across different cultures and individuals. This exploration can enhance one's ability to interpret and appreciate various forms of art and the beauty in nature, fostering a deeper understanding of personal and societal values. Additionally, learning aesthetics encourages openness to new ideas and interpretations, enriching one's overall aesthetic experience.\""
      ]
     },
     "execution_count": 5,
     "metadata": {},
     "output_type": "execute_result"
    }
   ],
   "source": [
    "res"
   ]
  },
  {
   "cell_type": "code",
   "execution_count": 6,
   "metadata": {},
   "outputs": [
    {
     "data": {
      "text/plain": [
       "[{'document': '## What is Aesthetics?  \\nAesthetics encompasses the study of sensory or emotional values, sometimes referred to as judgments of sentiment and taste. It examines how we perceive beauty and the principles that govern our appreciation of art and nature.',\n",
       "  'path': 'doc/subdir/subdir_example_doc.md'},\n",
       " {'document': '## Conclusion  \\nAesthetics is a dynamic field that continues to evolve, reflecting changes in culture, society, and technology. By exploring the nature of beauty and art, we gain insights into our values and the world around us. As we navigate an increasingly complex aesthetic landscape, it is essential to remain open to new ideas and interpretations, fostering a deeper appreciation for the beauty that surrounds us.',\n",
       "  'path': 'doc/subdir/subdir_example_doc.md'},\n",
       " {'document': '# The Essence of Aesthetics  \\nAesthetics, a branch of philosophy, explores the nature of beauty, art, and taste. It delves into what we find pleasing or appealing in our surroundings and experiences. This article will explore the fundamental concepts of aesthetics, its historical evolution, and its significance in contemporary society.',\n",
       "  'path': 'doc/subdir/subdir_example_doc.md'},\n",
       " {'document': '### Key Concepts in Aesthetics  \\n1. **Beauty**: Often considered the central theme of aesthetics, beauty is subjective and varies across cultures and individuals. What one person finds beautiful, another may not.  \\n2. **Art**: Aesthetic philosophy seeks to understand the nature of art, including its creation, interpretation, and value. Art can evoke emotions, provoke thought, and challenge societal norms.',\n",
       "  'path': 'doc/subdir/subdir_example_doc.md'}]"
      ]
     },
     "execution_count": 6,
     "metadata": {},
     "output_type": "execute_result"
    }
   ],
   "source": [
    "doc"
   ]
  },
  {
   "cell_type": "code",
   "execution_count": 7,
   "metadata": {},
   "outputs": [
    {
     "name": "stdout",
     "output_type": "stream",
     "text": [
      "Simple key word for text recall: 数学\n",
      "Key words for semantic recall: ['mathematics', 'introduction', 'relationship', 'content', 'discussion', '数学', '介绍', '关系', '内容', '讨论']\n",
      "\n",
      "Search completed in 3.67 seconds\n",
      "\n",
      "LLM completed in 1.95 seconds\n"
     ]
    }
   ],
   "source": [
    "res,doc = rag.answer(\"简要介绍数学 以及和之前聊的内容的关系\",history_length=2)"
   ]
  },
  {
   "cell_type": "code",
   "execution_count": 8,
   "metadata": {},
   "outputs": [
    {
     "data": {
      "text/plain": [
       "'数学是研究数字、数量、形状和模式的学科，涉及抽象概念及其之间的关系。它可以分为多个分支，包括算术、代数、几何、微积分和统计等。数学不仅是解决问题的工具，也是理解周围世界的一种深刻方式。\\n\\n在之前的讨论中，我们提到了学习美学的概念。数学的美学体现在其结构、对称性和逻辑性上，许多人认为数学本身具有一种内在的美。通过学习数学，个体不仅能够掌握解决实际问题的技能，还能欣赏数学中的美感和深度，这与学习美学的目的相辅相成。因此，数学的学习不仅是技术性的，也是审美和哲学上的探索，帮助我们更好地理解和欣赏世界的复杂性。'"
      ]
     },
     "execution_count": 8,
     "metadata": {},
     "output_type": "execute_result"
    }
   ],
   "source": [
    "res"
   ]
  },
  {
   "cell_type": "code",
   "execution_count": 9,
   "metadata": {},
   "outputs": [
    {
     "data": {
      "text/plain": [
       "[{'document': 'development, key concepts, and its significance in contemporary society.  \\n**What is Mathematics?**  \\nMathematics is the study of numbers, quantities, shapes, and patterns. It involves the exploration of  \\nabstract concepts and the relationships between them. Mathematics can be divided into several\\nbranches, including:  \\n1. Arithmetic: The study of numbers and basic operations (addition, subtraction, multiplication,  \\ndivision).',\n",
       "  'path': 'doc/subdir/subdir_example_doc_pdf_converted.md'},\n",
       " {'document': '**The Beauty of Mathematics**  \\nMathematics is often described as the language of the universe, a discipline that transcends cultural  \\nand linguistic boundaries. It is not only a tool for solving problems but also a profound way of\\nunderstanding the world around us. This article explores the essence of mathematics, its historical  \\ndevelopment, key concepts, and its significance in contemporary society.  \\n**What is Mathematics?**',\n",
       "  'path': 'doc/subdir/subdir_example_doc_pdf_converted.md'},\n",
       " {'document': '1. Arithmetic: The study of numbers and basic operations (addition, subtraction, multiplication,  \\ndivision).  \\n2. Algebra: The branch that deals with symbols and the rules for manipulating those symbols.  \\n3. Geometry: The study of shapes, sizes, and properties of space.  \\n4. Calculus: The study of change and motion, focusing on derivatives and integrals.  \\n5. Statistics: The study of data collection, analysis, interpretation, and presentation.  \\n**Historical Development of Mathematics**',\n",
       "  'path': 'doc/subdir/subdir_example_doc_pdf_converted.md'},\n",
       " {'document': 'rational numbers, and real numbers.  \\n2. Functions: Relationships between sets of numbers, where each input has a unique output.  \\n3. Proof and Logic: The process of demonstrating the truth of mathematical statements through  \\nlogical reasoning.  \\n4. Mathematical Modeling: The use of mathematics to represent real-world phenomena, allowing for  \\npredictions and analysis.  \\n**The Significance of Mathematics Today**  \\nMathematics plays a crucial role in various fields, including:',\n",
       "  'path': 'doc/subdir/subdir_example_doc_pdf_converted.md'}]"
      ]
     },
     "execution_count": 9,
     "metadata": {},
     "output_type": "execute_result"
    }
   ],
   "source": [
    "doc"
   ]
  },
  {
   "cell_type": "code",
   "execution_count": null,
   "metadata": {},
   "outputs": [],
   "source": []
  },
  {
   "cell_type": "code",
   "execution_count": null,
   "metadata": {},
   "outputs": [],
   "source": []
  }
 ],
 "metadata": {
  "kernelspec": {
   "display_name": "Python 3",
   "language": "python",
   "name": "python3"
  },
  "language_info": {
   "codemirror_mode": {
    "name": "ipython",
    "version": 3
   },
   "file_extension": ".py",
   "mimetype": "text/x-python",
   "name": "python",
   "nbconvert_exporter": "python",
   "pygments_lexer": "ipython3",
   "version": "3.12.4"
  }
 },
 "nbformat": 4,
 "nbformat_minor": 2
}
